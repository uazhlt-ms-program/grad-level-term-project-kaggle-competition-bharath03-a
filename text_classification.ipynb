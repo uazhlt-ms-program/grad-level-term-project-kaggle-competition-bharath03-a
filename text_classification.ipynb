{
 "cells": [
  {
   "cell_type": "code",
   "execution_count": 23,
   "id": "7589ef36-e5ff-453c-81c2-eba0650c26b3",
   "metadata": {},
   "outputs": [],
   "source": [
    "%%capture\n",
    "%pip install -r requirements.txt\n",
    "%pip install spacy\n",
    "%pip install gensim\n",
    "!python -m spacy download en_core_web_sm"
   ]
  },
  {
   "cell_type": "code",
   "execution_count": 24,
   "id": "f280b8fe-9888-473f-9724-751abdbc8137",
   "metadata": {},
   "outputs": [],
   "source": [
    "import numpy as np\n",
    "import pandas as pd\n",
    "import matplotlib.pyplot as plt\n",
    "import seaborn as sns\n",
    "import re\n",
    "import spacy\n",
    "\n",
    "from sklearn.model_selection import train_test_split\n",
    "from sklearn.feature_extraction.text import TfidfVectorizer\n",
    "from sklearn.metrics import classification_report\n",
    "from sklearn.linear_model import LogisticRegression\n",
    "from gensim.models import Word2Vec\n"
   ]
  },
  {
   "cell_type": "code",
   "execution_count": 3,
   "id": "905cce51-e831-4ac8-a49e-033159141a07",
   "metadata": {},
   "outputs": [],
   "source": [
    "# Reading data\n",
    "def read_csv(file_path):\n",
    "    \"\"\"_summary_\n",
    "\n",
    "    Args:\n",
    "        file_path (_type_): _description_\n",
    "    \"\"\"\n",
    "    text_data = pd.read_csv(file_path, sep=\",\")\n",
    "    return text_data\n",
    "\n",
    "train_path = \"./data/train/train.csv\"\n",
    "test_path = \"./data/test/test.csv\""
   ]
  },
  {
   "cell_type": "code",
   "execution_count": 4,
   "id": "2ca37e4a",
   "metadata": {},
   "outputs": [],
   "source": [
    "train_data = read_csv(train_path)\n",
    "test_data = read_csv(test_path)"
   ]
  },
  {
   "cell_type": "code",
   "execution_count": 5,
   "id": "4cf45be1",
   "metadata": {},
   "outputs": [
    {
     "data": {
      "text/html": [
       "<div>\n",
       "<style scoped>\n",
       "    .dataframe tbody tr th:only-of-type {\n",
       "        vertical-align: middle;\n",
       "    }\n",
       "\n",
       "    .dataframe tbody tr th {\n",
       "        vertical-align: top;\n",
       "    }\n",
       "\n",
       "    .dataframe thead th {\n",
       "        text-align: right;\n",
       "    }\n",
       "</style>\n",
       "<table border=\"1\" class=\"dataframe\">\n",
       "  <thead>\n",
       "    <tr style=\"text-align: right;\">\n",
       "      <th></th>\n",
       "      <th>ID</th>\n",
       "      <th>TEXT</th>\n",
       "      <th>LABEL</th>\n",
       "    </tr>\n",
       "  </thead>\n",
       "  <tbody>\n",
       "    <tr>\n",
       "      <th>0</th>\n",
       "      <td>7850790573542594519</td>\n",
       "      <td>If you love good films don't ever buy this pei...</td>\n",
       "      <td>2</td>\n",
       "    </tr>\n",
       "    <tr>\n",
       "      <th>1</th>\n",
       "      <td>9392069522632994700</td>\n",
       "      <td>The 33 percent of the nations nitwits that sti...</td>\n",
       "      <td>2</td>\n",
       "    </tr>\n",
       "    <tr>\n",
       "      <th>2</th>\n",
       "      <td>5083704536542443514</td>\n",
       "      <td>I saw Anatomy years ago -- dubbed at a friends...</td>\n",
       "      <td>1</td>\n",
       "    </tr>\n",
       "  </tbody>\n",
       "</table>\n",
       "</div>"
      ],
      "text/plain": [
       "                    ID                                               TEXT  \\\n",
       "0  7850790573542594519  If you love good films don't ever buy this pei...   \n",
       "1  9392069522632994700  The 33 percent of the nations nitwits that sti...   \n",
       "2  5083704536542443514  I saw Anatomy years ago -- dubbed at a friends...   \n",
       "\n",
       "   LABEL  \n",
       "0      2  \n",
       "1      2  \n",
       "2      1  "
      ]
     },
     "execution_count": 5,
     "metadata": {},
     "output_type": "execute_result"
    }
   ],
   "source": [
    "train_data.head(3)"
   ]
  },
  {
   "cell_type": "code",
   "execution_count": 6,
   "id": "0d50f043",
   "metadata": {},
   "outputs": [],
   "source": [
    "# Getting info from dataset\n",
    "def explore_data(dataset):\n",
    "    \"\"\"_summary_\n",
    "\n",
    "    Args:\n",
    "        dataset (_type_): _description_\n",
    "    \"\"\"\n",
    "    # dataset column value counts\n",
    "    print(dataset['LABEL'].value_counts())\n",
    "    \n",
    "    # dataset null values\n",
    "    print(train_data.isnull().sum())\n",
    "    \n",
    "    # dataset duplicate data info\n",
    "    print(train_data.duplicated().sum())\n",
    "    \n",
    "    # dataset shape\n",
    "    print(train_data.shape)\n",
    "    \n",
    "    # dataset info\n",
    "    print(train_data.info())"
   ]
  },
  {
   "cell_type": "code",
   "execution_count": 7,
   "id": "2a829ad8",
   "metadata": {},
   "outputs": [
    {
     "name": "stdout",
     "output_type": "stream",
     "text": [
      "LABEL\n",
      "0    32071\n",
      "1    19276\n",
      "2    18970\n",
      "Name: count, dtype: int64\n",
      "ID       0\n",
      "TEXT     6\n",
      "LABEL    0\n",
      "dtype: int64\n",
      "0\n",
      "(70317, 3)\n",
      "<class 'pandas.core.frame.DataFrame'>\n",
      "RangeIndex: 70317 entries, 0 to 70316\n",
      "Data columns (total 3 columns):\n",
      " #   Column  Non-Null Count  Dtype \n",
      "---  ------  --------------  ----- \n",
      " 0   ID      70317 non-null  uint64\n",
      " 1   TEXT    70311 non-null  object\n",
      " 2   LABEL   70317 non-null  int64 \n",
      "dtypes: int64(1), object(1), uint64(1)\n",
      "memory usage: 1.6+ MB\n",
      "None\n"
     ]
    }
   ],
   "source": [
    "explore_data(train_data)"
   ]
  },
  {
   "cell_type": "markdown",
   "id": "4f0e18d1",
   "metadata": {},
   "source": [
    "#### **Text Pre-processing**"
   ]
  },
  {
   "cell_type": "code",
   "execution_count": 18,
   "id": "50f0838e",
   "metadata": {},
   "outputs": [],
   "source": [
    "nlp = spacy.load(\"en_core_web_sm\")\n",
    "\n",
    "def process_text(text):\n",
    "    doc = nlp(text)\n",
    "    \n",
    "    processed_tokens = [token.lemma_ for token in doc if not token.is_stop]\n",
    "    \n",
    "    processed_text = \" \".join(processed_tokens)\n",
    "    \n",
    "    return processed_text\n",
    "\n",
    "train_data['TEXT'] = train_data['TEXT'].astype('str').apply(process_text)"
   ]
  },
  {
   "cell_type": "code",
   "execution_count": 19,
   "id": "344e4320",
   "metadata": {},
   "outputs": [],
   "source": [
    "def text_preprocess(txt: str):\n",
    "    \"\"\"_summary_\n",
    "\n",
    "    Args:\n",
    "        txt (_type_): _description_\n",
    "\n",
    "    Returns:\n",
    "        _type_: _description_\n",
    "    \"\"\"\n",
    "    txt = txt.lower()\n",
    "    \n",
    "    txt = re.sub(r'http[s]?://(?:[a-zA-Z]|[0-9]|[$-_@.&+]|[!*\\\\(\\\\),]|(?:%[0-9a-fA-F][0-9a-fA-F]))', '<URL>', txt)\n",
    "\n",
    "    txt = re.sub(r'\\d+', '<PHONE>', txt)\n",
    "    \n",
    "    txt = re.sub(r'[^a-zA-Z\\s]', '', txt)\n",
    "    \n",
    "    txt = re.sub(r'[^\\w\\s]', '<PUNCT>', txt)\n",
    "\n",
    "    txt = re.sub(r'\\b\\w\\b', '<SNGL>', txt)\n",
    "\n",
    "    txt = re.sub(r'\\s+', '<SPC>', txt).strip()\n",
    "    \n",
    "    return txt"
   ]
  },
  {
   "cell_type": "code",
   "execution_count": 20,
   "id": "6f1e2b6a",
   "metadata": {},
   "outputs": [],
   "source": [
    "train_data['TEXT'] = train_data['TEXT'].astype('str').apply(text_preprocess)"
   ]
  },
  {
   "cell_type": "markdown",
   "id": "47e1a806",
   "metadata": {},
   "source": [
    "#### **Text to features**"
   ]
  },
  {
   "cell_type": "code",
   "execution_count": 25,
   "id": "88f32703",
   "metadata": {},
   "outputs": [],
   "source": [
    "X_train, X_test, y_train, y_test = train_test_split(train_data['TEXT'], train_data['LABEL'], test_size=0.2, random_state=42)\n",
    "\n",
    "word2vec_model = Word2Vec(sentences=X_train, vector_size=100, window=5, min_count=1, workers=4)\n",
    "\n",
    "def wordlist_to_vector(word_list):\n",
    "    feature_vector = np.zeros((word2vec_model.vector_size,), dtype=\"float32\")\n",
    "    num_words = 0\n",
    "    for word in word_list:\n",
    "        if word in word2vec_model.wv:\n",
    "            feature_vector = np.add(feature_vector, word2vec_model.wv[word])\n",
    "            num_words += 1\n",
    "    if num_words != 0:\n",
    "        feature_vector = np.divide(feature_vector, num_words)\n",
    "    return feature_vector"
   ]
  },
  {
   "cell_type": "code",
   "execution_count": 26,
   "id": "820871c7",
   "metadata": {},
   "outputs": [],
   "source": [
    "X_train_vectors = [wordlist_to_vector(review) for review in X_train]\n",
    "X_test_vectors = [wordlist_to_vector(review) for review in X_test]"
   ]
  },
  {
   "cell_type": "code",
   "execution_count": 27,
   "id": "277aea79",
   "metadata": {},
   "outputs": [
    {
     "name": "stdout",
     "output_type": "stream",
     "text": [
      "              precision    recall  f1-score   support\n",
      "\n",
      "           0       0.62      0.83      0.71      6454\n",
      "           1       0.48      0.35      0.40      3856\n",
      "           2       0.49      0.36      0.41      3754\n",
      "\n",
      "    accuracy                           0.57     14064\n",
      "   macro avg       0.53      0.51      0.51     14064\n",
      "weighted avg       0.55      0.57      0.55     14064\n",
      "\n"
     ]
    }
   ],
   "source": [
    "classifier = LogisticRegression(max_iter=1000)\n",
    "classifier.fit(X_train_vectors, y_train)\n",
    "\n",
    "y_pred = classifier.predict(X_test_vectors)\n",
    "print(classification_report(y_test, y_pred))"
   ]
  },
  {
   "cell_type": "code",
   "execution_count": 29,
   "id": "ceb5122a",
   "metadata": {},
   "outputs": [],
   "source": [
    "test_data['TEXT'] = test_data['TEXT'].astype('str').apply(process_text)\n",
    "test_data['TEXT'] = test_data['TEXT'].apply(text_preprocess)\n",
    "\n",
    "X_test_final = [wordlist_to_vector(review) for review in test_data['TEXT']]\n",
    "\n",
    "y_pred_final = classifier.predict(X_test_final)"
   ]
  },
  {
   "cell_type": "code",
   "execution_count": 31,
   "id": "747a4efe",
   "metadata": {},
   "outputs": [],
   "source": [
    "og_test_data = read_csv(test_path)\n",
    "\n",
    "submission_df = pd.DataFrame({'ID': og_test_data['ID'], 'LABEL': y_pred_final})\n",
    "\n",
    "submission_df.to_csv('./data/submission/submission.csv', index=False)"
   ]
  },
  {
   "cell_type": "code",
   "execution_count": null,
   "id": "8ac01030",
   "metadata": {},
   "outputs": [],
   "source": []
  }
 ],
 "metadata": {
  "kernelspec": {
   "display_name": "Python 3 (ipykernel)",
   "language": "python",
   "name": "python3"
  },
  "language_info": {
   "codemirror_mode": {
    "name": "ipython",
    "version": 3
   },
   "file_extension": ".py",
   "mimetype": "text/x-python",
   "name": "python",
   "nbconvert_exporter": "python",
   "pygments_lexer": "ipython3",
   "version": "3.11.5"
  }
 },
 "nbformat": 4,
 "nbformat_minor": 5
}
